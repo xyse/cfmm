{
 "cells": [
  {
   "cell_type": "code",
   "execution_count": 19,
   "metadata": {},
   "outputs": [],
   "source": [
    "import numpy as np\n",
    "import requests\n",
    "import json\n",
    "from ipywidgets import interact, interactive, fixed, interact_manual\n",
    "import ipywidgets as widgets\n",
    "from matplotlib import pyplot as plt"
   ]
  },
  {
   "cell_type": "code",
   "execution_count": 33,
   "metadata": {},
   "outputs": [
    {
     "data": {
      "application/vnd.jupyter.widget-view+json": {
       "model_id": "d5472c0217ef4f1a9a47ef36f21eb1eb",
       "version_major": 2,
       "version_minor": 0
      },
      "text/plain": [
       "interactive(children=(FloatText(value=10000.0, description='Position Size', step=1000.0), Text(value='bitcoin'…"
      ]
     },
     "metadata": {},
     "output_type": "display_data"
    },
    {
     "data": {
      "text/plain": [
       "<function __main__.cpmmm(s=1000, cg_id='bitcoin')>"
      ]
     },
     "execution_count": 33,
     "metadata": {},
     "output_type": "execute_result"
    }
   ],
   "source": [
    "\n",
    "#assume stablecoin + volatile coin\n",
    "def cpmmm(s=1000, cg_id='bitcoin'):\n",
    "    a = requests.get('https://api.coingecko.com/api/v3/simple/price?ids={}&vs_currencies=usd'.format(cg_id)).json()[cg_id]['usd']\n",
    "    plt.axvline(x=a, color='r', ls='--')\n",
    "    b= np.arange(a*0.5, a*2, .1)\n",
    "    lp_position_value = s/np.sqrt(a/b) #(2*np.sqrt(ratio_change)*hold_position_value)/(ratio_change+1)\n",
    "    lp_position_delta = s*np.sqrt(a/b)/(2*a)\n",
    "    lp_position_gamma = -s*np.sqrt(a/b)/(4*a*b)\n",
    "    lp_position_speed = 3*s*np.sqrt(a/b)/(8*a*b**2)\n",
    "    plt.plot(b, lp_position_value)\n",
    "interact(\n",
    "    cpmmm,\n",
    "    s = widgets.FloatText(description='Position Size', value=10000, min=0, max=100000, step=1000, continuous_update=False),\n",
    "    cg_id = widgets.Text(description='Coingecko ID', value='bitcoin', continuous_update=False, style= {'description_width': 'initial'}),\n",
    "\n",
    ")\n"
   ]
  }
 ],
 "metadata": {
  "interpreter": {
   "hash": "b0fa6594d8f4cbf19f97940f81e996739fb7646882a419484c72d19e05852a7e"
  },
  "kernelspec": {
   "display_name": "Python 3.9.13 64-bit",
   "language": "python",
   "name": "python3"
  },
  "language_info": {
   "codemirror_mode": {
    "name": "ipython",
    "version": 3
   },
   "file_extension": ".py",
   "mimetype": "text/x-python",
   "name": "python",
   "nbconvert_exporter": "python",
   "pygments_lexer": "ipython3",
   "version": "3.9.13"
  },
  "orig_nbformat": 4
 },
 "nbformat": 4,
 "nbformat_minor": 2
}
